{
 "cells": [
  {
   "cell_type": "code",
   "execution_count": null,
   "id": "387bf6cb",
   "metadata": {},
   "outputs": [],
   "source": [
    "# 目的：讀取tif檔案投影成2D，提供給YOLO作為輸入\n",
    "# 使用者上傳的Tif檔案會放在: User_Input_DLG_tif\n",
    "# 會輸出2D 投影圖到: DEMO_For_YOLO_as_Input\n",
    "\n",
    "# 這是第一步驟，在此先將之前的\" 網頁應用程式暫存資料夾 六個資料夾重置 \"\n"
   ]
  },
  {
   "cell_type": "code",
   "execution_count": 1,
   "id": "0aaf576b",
   "metadata": {},
   "outputs": [],
   "source": [
    "import os\n",
    "import shutil\n",
    "# ==========================設定所有會儲存使用的路徑==========================\n",
    "# 設定儲存母資料夾路徑: 網頁應用程式暫存資料夾 # 這個通常不會動\n",
    "nas_path = '網頁應用程式暫存資料夾_AL專用/'\n",
    "# 清空並重建 'nas_path' 資料夾\n",
    "folder = nas_path\n",
    "if os.path.exists(folder):\n",
    "    shutil.rmtree(folder)\n",
    "os.mkdir(folder)\n",
    "# ===\n",
    "nas_path = '網頁應用程式暫存資料夾_MB專用/'\n",
    "# 清空並重建 'nas_path' 資料夾\n",
    "folder = nas_path\n",
    "if os.path.exists(folder):\n",
    "    shutil.rmtree(folder)\n",
    "os.mkdir(folder)\n",
    "# ===\n",
    "nas_path = '網頁應用程式暫存資料夾_CAL專用/'\n",
    "# 清空並重建 'nas_path' 資料夾\n",
    "folder = nas_path\n",
    "if os.path.exists(folder):\n",
    "    shutil.rmtree(folder)\n",
    "os.mkdir(folder)\n",
    "# ===\n",
    "nas_path = '網頁應用程式暫存資料夾_FB專用/'\n",
    "# 清空並重建 'nas_path' 資料夾\n",
    "folder = nas_path\n",
    "if os.path.exists(folder):\n",
    "    shutil.rmtree(folder)\n",
    "os.mkdir(folder)\n",
    "# ===\n",
    "nas_path = '網頁應用程式暫存資料夾_EB專用/'\n",
    "# 清空並重建 'nas_path' 資料夾\n",
    "folder = nas_path\n",
    "if os.path.exists(folder):\n",
    "    shutil.rmtree(folder)\n",
    "os.mkdir(folder)\n",
    "# ===\n",
    "nas_path = '網頁應用程式暫存資料夾_PB專用/'\n",
    "# 清空並重建 'nas_path' 資料夾\n",
    "folder = nas_path\n",
    "if os.path.exists(folder):\n",
    "    shutil.rmtree(folder)\n",
    "os.mkdir(folder)"
   ]
  },
  {
   "cell_type": "code",
   "execution_count": 2,
   "id": "2043edc9",
   "metadata": {
    "scrolled": true
   },
   "outputs": [
    {
     "name": "stdout",
     "output_type": "stream",
     "text": [
      "1 image(s) found in 'User_Input_DLG_tif'.\n",
      "Folder 'DEMO_For_YOLO_as_Input' is ready.\n"
     ]
    },
    {
     "ename": "TiffFileError",
     "evalue": "not a TIFF file b'SUkq'",
     "output_type": "error",
     "traceback": [
      "\u001b[0;31m---------------------------------------------------------------------------\u001b[0m",
      "\u001b[0;31mKeyError\u001b[0m                                  Traceback (most recent call last)",
      "File \u001b[0;32m/usr/local/lib/python3.8/dist-packages/tifffile/tifffile.py:3158\u001b[0m, in \u001b[0;36mTiffFile.__init__\u001b[0;34m(self, arg, mode, name, offset, size, _multifile, _useframes, _parent, **kwargs)\u001b[0m\n\u001b[1;32m   3157\u001b[0m \u001b[38;5;28;01mtry\u001b[39;00m:\n\u001b[0;32m-> 3158\u001b[0m     byteorder \u001b[38;5;241m=\u001b[39m \u001b[43m{\u001b[49m\u001b[38;5;124;43mb\u001b[39;49m\u001b[38;5;124;43m'\u001b[39;49m\u001b[38;5;124;43mII\u001b[39;49m\u001b[38;5;124;43m'\u001b[39;49m\u001b[43m:\u001b[49m\u001b[43m \u001b[49m\u001b[38;5;124;43m'\u001b[39;49m\u001b[38;5;124;43m<\u001b[39;49m\u001b[38;5;124;43m'\u001b[39;49m\u001b[43m,\u001b[49m\u001b[43m \u001b[49m\u001b[38;5;124;43mb\u001b[39;49m\u001b[38;5;124;43m'\u001b[39;49m\u001b[38;5;124;43mMM\u001b[39;49m\u001b[38;5;124;43m'\u001b[39;49m\u001b[43m:\u001b[49m\u001b[43m \u001b[49m\u001b[38;5;124;43m'\u001b[39;49m\u001b[38;5;124;43m>\u001b[39;49m\u001b[38;5;124;43m'\u001b[39;49m\u001b[43m,\u001b[49m\u001b[43m \u001b[49m\u001b[38;5;124;43mb\u001b[39;49m\u001b[38;5;124;43m'\u001b[39;49m\u001b[38;5;124;43mEP\u001b[39;49m\u001b[38;5;124;43m'\u001b[39;49m\u001b[43m:\u001b[49m\u001b[43m \u001b[49m\u001b[38;5;124;43m'\u001b[39;49m\u001b[38;5;124;43m<\u001b[39;49m\u001b[38;5;124;43m'\u001b[39;49m\u001b[43m}\u001b[49m\u001b[43m[\u001b[49m\u001b[43mheader\u001b[49m\u001b[43m[\u001b[49m\u001b[43m:\u001b[49m\u001b[38;5;241;43m2\u001b[39;49m\u001b[43m]\u001b[49m\u001b[43m]\u001b[49m\n\u001b[1;32m   3159\u001b[0m \u001b[38;5;28;01mexcept\u001b[39;00m \u001b[38;5;167;01mKeyError\u001b[39;00m:\n",
      "\u001b[0;31mKeyError\u001b[0m: b'SU'",
      "\nDuring handling of the above exception, another exception occurred:\n",
      "\u001b[0;31mTiffFileError\u001b[0m                             Traceback (most recent call last)",
      "Input \u001b[0;32mIn [2]\u001b[0m, in \u001b[0;36m<cell line: 11>\u001b[0;34m()\u001b[0m\n\u001b[1;32m     27\u001b[0m     start_time \u001b[38;5;241m=\u001b[39m time\u001b[38;5;241m.\u001b[39mtime()\n\u001b[1;32m     28\u001b[0m     \u001b[38;5;28;01mfor\u001b[39;00m file \u001b[38;5;129;01min\u001b[39;00m DLG_files:\n\u001b[0;32m---> 29\u001b[0m         DLG \u001b[38;5;241m=\u001b[39m \u001b[43mtif\u001b[49m\u001b[38;5;241;43m.\u001b[39;49m\u001b[43mimread\u001b[49m\u001b[43m(\u001b[49m\u001b[43mos\u001b[49m\u001b[38;5;241;43m.\u001b[39;49m\u001b[43mpath\u001b[49m\u001b[38;5;241;43m.\u001b[39;49m\u001b[43mjoin\u001b[49m\u001b[43m(\u001b[49m\u001b[38;5;124;43m'\u001b[39;49m\u001b[38;5;124;43mUser_Input_DLG_tif\u001b[39;49m\u001b[38;5;124;43m'\u001b[39;49m\u001b[43m,\u001b[49m\u001b[43m \u001b[49m\u001b[43mfile\u001b[49m\u001b[43m)\u001b[49m\u001b[43m)\u001b[49m\n\u001b[1;32m     30\u001b[0m         \u001b[38;5;28mprint\u001b[39m(\u001b[38;5;124mf\u001b[39m\u001b[38;5;124m'\u001b[39m\u001b[38;5;124mProcessing \u001b[39m\u001b[38;5;132;01m{\u001b[39;00mfile\u001b[38;5;132;01m}\u001b[39;00m\u001b[38;5;124m, shape: \u001b[39m\u001b[38;5;132;01m{\u001b[39;00mDLG\u001b[38;5;241m.\u001b[39mshape\u001b[38;5;132;01m}\u001b[39;00m\u001b[38;5;124m'\u001b[39m)\n\u001b[1;32m     32\u001b[0m \u001b[38;5;66;03m#         # 顯示第 Z_num 切片的三視圖\u001b[39;00m\n\u001b[1;32m     33\u001b[0m \u001b[38;5;66;03m#         Z_num = 70\u001b[39;00m\n\u001b[1;32m     34\u001b[0m \u001b[38;5;66;03m#         plt.figure(figsize=(10, 20))\u001b[39;00m\n\u001b[0;32m   (...)\u001b[0m\n\u001b[1;32m     39\u001b[0m \n\u001b[1;32m     40\u001b[0m         \u001b[38;5;66;03m# 計算投影\u001b[39;00m\n",
      "File \u001b[0;32m/usr/local/lib/python3.8/dist-packages/tifffile/tifffile.py:825\u001b[0m, in \u001b[0;36mimread\u001b[0;34m(files, aszarr, **kwargs)\u001b[0m\n\u001b[1;32m    822\u001b[0m     files \u001b[38;5;241m=\u001b[39m files[\u001b[38;5;241m0\u001b[39m]\n\u001b[1;32m    824\u001b[0m \u001b[38;5;28;01mif\u001b[39;00m \u001b[38;5;28misinstance\u001b[39m(files, (\u001b[38;5;28mstr\u001b[39m, os\u001b[38;5;241m.\u001b[39mPathLike)) \u001b[38;5;129;01mor\u001b[39;00m \u001b[38;5;28mhasattr\u001b[39m(files, \u001b[38;5;124m'\u001b[39m\u001b[38;5;124mseek\u001b[39m\u001b[38;5;124m'\u001b[39m):\n\u001b[0;32m--> 825\u001b[0m     \u001b[38;5;28;01mwith\u001b[39;00m \u001b[43mTiffFile\u001b[49m\u001b[43m(\u001b[49m\u001b[43mfiles\u001b[49m\u001b[43m,\u001b[49m\u001b[43m \u001b[49m\u001b[38;5;241;43m*\u001b[39;49m\u001b[38;5;241;43m*\u001b[39;49m\u001b[43mkwargs_file\u001b[49m\u001b[43m)\u001b[49m \u001b[38;5;28;01mas\u001b[39;00m tif:\n\u001b[1;32m    826\u001b[0m         \u001b[38;5;28;01mif\u001b[39;00m aszarr:\n\u001b[1;32m    827\u001b[0m             \u001b[38;5;28;01mreturn\u001b[39;00m tif\u001b[38;5;241m.\u001b[39maszarr(\u001b[38;5;241m*\u001b[39m\u001b[38;5;241m*\u001b[39mkwargs)\n",
      "File \u001b[0;32m/usr/local/lib/python3.8/dist-packages/tifffile/tifffile.py:3160\u001b[0m, in \u001b[0;36mTiffFile.__init__\u001b[0;34m(self, arg, mode, name, offset, size, _multifile, _useframes, _parent, **kwargs)\u001b[0m\n\u001b[1;32m   3158\u001b[0m     byteorder \u001b[38;5;241m=\u001b[39m {\u001b[38;5;124mb\u001b[39m\u001b[38;5;124m'\u001b[39m\u001b[38;5;124mII\u001b[39m\u001b[38;5;124m'\u001b[39m: \u001b[38;5;124m'\u001b[39m\u001b[38;5;124m<\u001b[39m\u001b[38;5;124m'\u001b[39m, \u001b[38;5;124mb\u001b[39m\u001b[38;5;124m'\u001b[39m\u001b[38;5;124mMM\u001b[39m\u001b[38;5;124m'\u001b[39m: \u001b[38;5;124m'\u001b[39m\u001b[38;5;124m>\u001b[39m\u001b[38;5;124m'\u001b[39m, \u001b[38;5;124mb\u001b[39m\u001b[38;5;124m'\u001b[39m\u001b[38;5;124mEP\u001b[39m\u001b[38;5;124m'\u001b[39m: \u001b[38;5;124m'\u001b[39m\u001b[38;5;124m<\u001b[39m\u001b[38;5;124m'\u001b[39m}[header[:\u001b[38;5;241m2\u001b[39m]]\n\u001b[1;32m   3159\u001b[0m \u001b[38;5;28;01mexcept\u001b[39;00m \u001b[38;5;167;01mKeyError\u001b[39;00m:\n\u001b[0;32m-> 3160\u001b[0m     \u001b[38;5;28;01mraise\u001b[39;00m TiffFileError(\u001b[38;5;124mf\u001b[39m\u001b[38;5;124m'\u001b[39m\u001b[38;5;124mnot a TIFF file \u001b[39m\u001b[38;5;132;01m{\u001b[39;00mheader\u001b[38;5;132;01m!r}\u001b[39;00m\u001b[38;5;124m'\u001b[39m)\n\u001b[1;32m   3162\u001b[0m version \u001b[38;5;241m=\u001b[39m struct\u001b[38;5;241m.\u001b[39munpack(byteorder \u001b[38;5;241m+\u001b[39m \u001b[38;5;124m'\u001b[39m\u001b[38;5;124mH\u001b[39m\u001b[38;5;124m'\u001b[39m, header[\u001b[38;5;241m2\u001b[39m:\u001b[38;5;241m4\u001b[39m])[\u001b[38;5;241m0\u001b[39m]\n\u001b[1;32m   3163\u001b[0m \u001b[38;5;28;01mif\u001b[39;00m version \u001b[38;5;241m==\u001b[39m \u001b[38;5;241m43\u001b[39m:\n\u001b[1;32m   3164\u001b[0m     \u001b[38;5;66;03m# BigTiff\u001b[39;00m\n",
      "\u001b[0;31mTiffFileError\u001b[0m: not a TIFF file b'SUkq'"
     ]
    }
   ],
   "source": [
    "import os\n",
    "import shutil\n",
    "import tifffile as tif\n",
    "import numpy as np\n",
    "import matplotlib.pyplot as plt\n",
    "from PIL import Image\n",
    "import time\n",
    "\n",
    "# Step 1: 檢查 'User_Input_DLG_tif' 資料夾是否有檔案\n",
    "DLG_files = [file for file in os.listdir('User_Input_DLG_tif') if file.endswith('.tif') and not file.startswith('.')]\n",
    "if not DLG_files:\n",
    "    print(\"No image files uploaded in 'User_Input_DLG_tif'.\")\n",
    "else:\n",
    "    print(f\"{len(DLG_files)} image(s) found in 'User_Input_DLG_tif'.\")\n",
    "\n",
    "    # 排序檔案\n",
    "    DLG_files.sort()\n",
    "\n",
    "    # Step 2: 清空並重建 'DEMO_For_YOLO_as_Input' 資料夾\n",
    "    folder = 'DEMO_For_YOLO_as_Input'\n",
    "    if os.path.exists(folder):\n",
    "        shutil.rmtree(folder)\n",
    "    os.mkdir(folder)\n",
    "    print(f\"Folder '{folder}' is ready.\")\n",
    "\n",
    "    # Step 3: 批量處理 DLG 檔案\n",
    "    start_time = time.time()\n",
    "    for file in DLG_files:\n",
    "        DLG = tif.imread(os.path.join('User_Input_DLG_tif', file))\n",
    "        print(f'Processing {file}, shape: {DLG.shape}')\n",
    "\n",
    "#         # 顯示第 Z_num 切片的三視圖\n",
    "#         Z_num = 70\n",
    "#         plt.figure(figsize=(10, 20))\n",
    "#         plt.imshow(DLG[Z_num], cmap='gray')\n",
    "#         plt.title(file, fontsize=24)\n",
    "#         plt.axis('off')\n",
    "#         plt.show()\n",
    "\n",
    "        # 計算投影\n",
    "        projection = np.sum(DLG, axis=0)  # 投影成2D圖 (取加總值)\n",
    "\n",
    "#         # 顯示投影結果\n",
    "#         plt.figure(figsize=(10, 10))\n",
    "#         plt.imshow(projection, cmap='gray')\n",
    "#         plt.title(f'{file}_to_2D', fontsize=24)\n",
    "#         plt.axis('off')\n",
    "#         plt.show()\n",
    "\n",
    "        # Step 4: 輸出投影圖至 YOLO 輸入資料夾\n",
    "        projection = (projection / np.max(projection)) * 255  # 正規化並轉換至 0-255\n",
    "        im = Image.fromarray(projection.astype('uint8'))\n",
    "        im.save(os.path.join(folder, file + '.png'))\n",
    "\n",
    "    # 記錄並顯示執行時間\n",
    "    end_time_to_2D = time.time()\n",
    "    print(f'Time to complete 2D projection: {end_time_to_2D - start_time:.2f} seconds.')\n"
   ]
  },
  {
   "cell_type": "code",
   "execution_count": null,
   "id": "d2393866",
   "metadata": {},
   "outputs": [],
   "source": []
  }
 ],
 "metadata": {
  "kernelspec": {
   "display_name": "Python 3 (ipykernel)",
   "language": "python",
   "name": "python3"
  },
  "language_info": {
   "codemirror_mode": {
    "name": "ipython",
    "version": 3
   },
   "file_extension": ".py",
   "mimetype": "text/x-python",
   "name": "python",
   "nbconvert_exporter": "python",
   "pygments_lexer": "ipython3",
   "version": "3.8.5"
  }
 },
 "nbformat": 4,
 "nbformat_minor": 5
}
