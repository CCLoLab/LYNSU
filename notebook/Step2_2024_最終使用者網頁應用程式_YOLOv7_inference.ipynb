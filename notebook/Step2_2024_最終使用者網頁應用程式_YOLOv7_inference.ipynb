{
 "cells": [
  {
   "cell_type": "code",
   "execution_count": 1,
   "id": "5b9ca1d6",
   "metadata": {},
   "outputs": [
    {
     "name": "stdout",
     "output_type": "stream",
     "text": [
      "標準輸出: opt==== Namespace(agnostic_nms=False, augment=False, class_colors='0 0 255 240 176 0 0 255 0', classes=None, conf_thres=0.5, device='', exist_ok=False, img_size=640, iou_thres=0.45, name='exp', no_trace=True, nosave=False, project='DEMO_YOLO_Inference', save_conf=False, save_txt=True, source='DEMO_For_YOLO_as_Input', update=False, view_img=False, weights=['./AllinOne_trained/best.pt'])\r\n",
      "custom_color:  [(0, 0, 255), (240, 176, 0), (0, 255, 0)]\r\n",
      "Fusing layers... \r\n",
      "IDetect.fuse\r\n",
      "2 ALs, 2 MBs, 1 CC, Done. (7.9ms) Inference, (1.3ms) NMS\r\n",
      " The image with the result is saved in: DEMO_YOLO_Inference/exp/DLG_G0239_F_000005.tif.png\r\n",
      "Done. (0.061s)\r\n",
      "\r\n"
     ]
    }
   ],
   "source": [
    "!python Step2_2024_最終使用者網頁應用程式_YOLOv7_inference.py"
   ]
  },
  {
   "cell_type": "code",
   "execution_count": null,
   "id": "b82577b3",
   "metadata": {},
   "outputs": [],
   "source": []
  }
 ],
 "metadata": {
  "kernelspec": {
   "display_name": "Python 3 (ipykernel)",
   "language": "python",
   "name": "python3"
  },
  "language_info": {
   "codemirror_mode": {
    "name": "ipython",
    "version": 3
   },
   "file_extension": ".py",
   "mimetype": "text/x-python",
   "name": "python",
   "nbconvert_exporter": "python",
   "pygments_lexer": "ipython3",
   "version": "3.8.5"
  }
 },
 "nbformat": 4,
 "nbformat_minor": 5
}
